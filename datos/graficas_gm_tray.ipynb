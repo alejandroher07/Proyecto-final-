{
 "cells": [
  {
   "cell_type": "code",
   "execution_count": 1,
   "metadata": {},
   "outputs": [],
   "source": [
    "import pandas as pd\n",
    "from pandas import *\n",
    "import matplotlib.pyplot as plt\n",
    "from mpl_toolkits.mplot3d import axes3d\n",
    "import numpy as np"
   ]
  },
  {
   "cell_type": "code",
   "execution_count": 2,
   "metadata": {},
   "outputs": [],
   "source": [
    "files = !ls *.txt # IPython magic\n",
    "#d = concat([pd.read_csv(f, sep=\" \", names=['tiempo','Posicion x','Posicion y','Posicion z', 'gamma']) for f in files], keys=files)\n",
    "ele = ([pd.read_csv(f, sep=\" \", names=['tiempo','Posicion x','Posicion y','Posicion z', 'gamma']) for f in files])\n"
   ]
  },
  {
   "cell_type": "code",
   "execution_count": null,
   "metadata": {},
   "outputs": [],
   "source": [
    "def gm(x):\n",
    "    \n",
    "    plt.figure(figsize=(15,10))\n",
    "    \n",
    "    plt.tick_params(labelsize = 20)\n",
    "    plt.xlabel('tiempo (μs)',fontsize=20)\n",
    "    plt.ylabel('ɣ',fontsize=20)\n",
    "    plt.title('Evolucion del factor ɣ para el electron {0}'.format(x+1),fontsize=20)\n",
    "    plt.grid(True)\n",
    "\n",
    "    plt.plot(ele[x]['tiempo'], ele[x]['gamma'],color=\"blue\", linewidth=1.5,)\n",
    "    plt.savefig('graficas_gamma/gamma_{0}.jpg'.format(x))"
   ]
  },
  {
   "cell_type": "code",
   "execution_count": null,
   "metadata": {},
   "outputs": [],
   "source": [
    "\n",
    "def tray(x):\n",
    "    \n",
    "    fig = plt.figure(figsize=(13,13))\n",
    "    ax = fig.add_subplot(111, projection=\"3d\")\n",
    "\n",
    "    zline = ele[x]['Posicion x']\n",
    "    xline = ele[x]['Posicion y']\n",
    "    yline = ele[x]['Posicion z']\n",
    "\n",
    "    ax.tick_params(axis='both', labelsize=14)\n",
    "    ax.set_xlabel('Posicion x',fontsize=20)\n",
    "    ax.set_ylabel('Posicion y ',fontsize=20)\n",
    "    ax.set_zlabel('longitud de la cavidad',fontsize=20)\n",
    "    ax.plot3D(xline, yline, zline, 'r')\n",
    "\n",
    "    plt.savefig('graficas_trayectoria/trayectoria_{0}.jpg'.format(x))"
   ]
  },
  {
   "cell_type": "code",
   "execution_count": null,
   "metadata": {},
   "outputs": [],
   "source": [
    "for i in range(len(files)):\n",
    "    #gm(i)\n",
    "    tray(i)"
   ]
  },
  {
   "cell_type": "code",
   "execution_count": null,
   "metadata": {},
   "outputs": [],
   "source": []
  }
 ],
 "metadata": {
  "kernelspec": {
   "display_name": "Python 3",
   "language": "python",
   "name": "python3"
  },
  "language_info": {
   "codemirror_mode": {
    "name": "ipython",
    "version": 3
   },
   "file_extension": ".py",
   "mimetype": "text/x-python",
   "name": "python",
   "nbconvert_exporter": "python",
   "pygments_lexer": "ipython3",
   "version": "3.6.8"
  }
 },
 "nbformat": 4,
 "nbformat_minor": 2
}
