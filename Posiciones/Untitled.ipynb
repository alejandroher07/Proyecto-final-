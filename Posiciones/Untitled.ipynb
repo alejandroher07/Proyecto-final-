{
 "cells": [
  {
   "cell_type": "code",
   "execution_count": 11,
   "metadata": {},
   "outputs": [],
   "source": [
    "import pandas as pd\n",
    "from pandas import *"
   ]
  },
  {
   "cell_type": "code",
   "execution_count": 12,
   "metadata": {},
   "outputs": [],
   "source": [
    "df = pd.read_csv('resultados1.txt', sep=\" \", names=['tiempo','Posicion x','Posicion y','Posicion z', 'gamma'])\n",
    "df.to_csv (r'resultados1.csv', index = False, header=True,)"
   ]
  },
  {
   "cell_type": "code",
   "execution_count": 161,
   "metadata": {},
   "outputs": [],
   "source": [
    "files = !ls *.txt # IPython magic\n",
    "#d = concat([pd.read_csv(f, sep=\" \", names=['tiempo','Posicion x','Posicion y','Posicion z', 'gamma']) for f in files], keys=files)\n",
    "ele = ([pd.read_csv(f, sep=\" \", names=['tiempo','Posicion x','Posicion y','Posicion z', 'gamma']) for f in files])\n"
   ]
  },
  {
   "cell_type": "code",
   "execution_count": 147,
   "metadata": {},
   "outputs": [],
   "source": [
    "#d1=d.loc[:, ['tiempo', 'gamma']] tambien funciona con el ix\n",
    "\n",
    "##x=d.loc[d.tiempo < 0.0002] ##elimina datos dependiendo al indice que desee\n"
   ]
  },
  {
   "cell_type": "code",
   "execution_count": 169,
   "metadata": {},
   "outputs": [
    {
     "ename": "SyntaxError",
     "evalue": "invalid syntax (<ipython-input-169-e0bea547d3a5>, line 15)",
     "output_type": "error",
     "traceback": [
      "\u001b[0;36m  File \u001b[0;32m\"<ipython-input-169-e0bea547d3a5>\"\u001b[0;36m, line \u001b[0;32m15\u001b[0m\n\u001b[0;31m    filename = grafica+str(x)+.png\u001b[0m\n\u001b[0m                              ^\u001b[0m\n\u001b[0;31mSyntaxError\u001b[0m\u001b[0;31m:\u001b[0m invalid syntax\n"
     ]
    }
   ],
   "source": [
    "import matplotlib.pyplot as plt\n",
    "import numpy as np\n",
    "\n",
    "def grafica(x):\n",
    "    \"\"\"DOCSTRING_DE_FUNCION\"\"\"\n",
    "    print(x)\n",
    "    plt.figure(figsize=(15,10))\n",
    "    plt.plot(ele[x]['tiempo'], ele[x]['gamma'],color=\"blue\", linewidth=1.5,)\n",
    "\n",
    "    plt.tick_params(labelsize = 20)\n",
    "    plt.xlabel('tiempo (μs)',fontsize=20)\n",
    "    plt.ylabel('ɣ',fontsize=20)\n",
    "    plt.title('Evolucion del factor ɣ en el tiempo',fontsize=20)\n",
    "    plt.grid(True)\n",
    "    filename = grafica+str(x)+.png\n",
    "    plt.savefig(filename)\n",
    "##   # plt.savefig(x+'_'+'.png\")\n",
    "\n",
    "grafica(2)"
   ]
  },
  {
   "cell_type": "code",
   "execution_count": null,
   "metadata": {},
   "outputs": [],
   "source": [
    "from mpl_toolkits.mplot3d import Axes3D\n",
    "\n",
    "fig = pl.figure()\n",
    "ax = Axes3D(fig)\n",
    "X = np.arange(-4, 4, 0.25)\n",
    "Y = np.arange(-4, 4, 0.25)\n",
    "X, Y = np.meshgrid(X, Y)\n",
    "R = np.sqrt(X**2 + Y**2)\n",
    "Z = np.sin(R)\n",
    "\n",
    "ax.plot_surface(X, Y, Z, rstride=1, cstride=1, cmap='hot')\n"
   ]
  }
 ],
 "metadata": {
  "kernelspec": {
   "display_name": "Python 3",
   "language": "python",
   "name": "python3"
  },
  "language_info": {
   "codemirror_mode": {
    "name": "ipython",
    "version": 3
   },
   "file_extension": ".py",
   "mimetype": "text/x-python",
   "name": "python",
   "nbconvert_exporter": "python",
   "pygments_lexer": "ipython3",
   "version": "3.6.7"
  }
 },
 "nbformat": 4,
 "nbformat_minor": 2
}
